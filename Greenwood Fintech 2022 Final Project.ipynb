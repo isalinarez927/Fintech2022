{
 "cells": [
  {
   "cell_type": "markdown",
   "metadata": {},
   "source": [
    "# Portfolio Analysis"
   ]
  },
  {
   "cell_type": "markdown",
   "metadata": {},
   "source": [
    "### Does the historical perfomance of a company predict its future performance? \n",
    "For the project, you will give a hypothesis to this question. You will implement and test a simple investment strategy: buying the best peforming stocks. <br> This strategy is an example of *momentum investing*. This means you believe the stocks will continue to perform well based on historical data and trends. You can learn more about this strategy <a href=\"https://www.investopedia.com/terms/m/momentum_investing.asp\">here</a>. <br> To compare this strategy you will test it against another strategy: buying the worst perfoming stocks. For a given dataset you will find which are the best and worst stocks and you will also test their performance in the \"future\".\n",
    "\n",
    "**But before we go into the strategies, let's take a look at the data we have available.**"
   ]
  },
  {
   "cell_type": "markdown",
   "metadata": {},
   "source": [
    "For this project we have available historical stock returns from beggining of 2012 until the end of 2021 for 419 different companies that are part of the [Standard and Poor's 500 list](https://en.wikipedia.org/wiki/S%26P_500). The symbol used in trading for this list is `SPX`.\n",
    "\n",
    "Your first task is to create a function that loads our dataset as a pandas DataFrame. Data can be found in the file  named `spx_price_data_clean.pk`."
   ]
  },
  {
   "cell_type": "code",
   "execution_count": null,
   "metadata": {},
   "outputs": [],
   "source": [
    "import pandas as pd\n",
    "# Add any necessary imports here\n",
    "\n",
    "\n",
    "def load_spx_data() -> pd.DataFrame:\n",
    "    pass  # delete this line before implementing the function\n",
    "    # TODO"
   ]
  },
  {
   "cell_type": "code",
   "execution_count": null,
   "metadata": {},
   "outputs": [],
   "source": [
    "spx_data = load_spx_data()"
   ]
  },
  {
   "cell_type": "markdown",
   "metadata": {},
   "source": [
    "The dataset contains the daily stock prices in column `adj_close` and other metadata about the stock or price. To do meaningful analysis on the stocks, you will might need to enrich the dataset with additional important stock data. \n",
    "\n",
    "You will start by creating a function that given the dataset, a start year and an end year (both inclusive), it returns a copy of the dataset but with a new column that contains the daily returns per stock (ticker). Daily return is defined as the percentage change between any two consecutive days' prices."
   ]
  },
  {
   "cell_type": "code",
   "execution_count": null,
   "metadata": {},
   "outputs": [],
   "source": [
    "# Add any necessary imports here\n",
    "\n",
    "\n",
    "def add_daily_returns(dataset: pd.DataFrame, start_year: int, end_year: int) -> pd.DataFrame:\n",
    "    pass  # delete this line before implementing the function\n",
    "    # TODO"
   ]
  },
  {
   "cell_type": "code",
   "execution_count": null,
   "metadata": {},
   "outputs": [],
   "source": [
    "spx_data_with_daily_returns = add_daily_returns(spx_data, 2012, 2021)"
   ]
  },
  {
   "cell_type": "markdown",
   "metadata": {},
   "source": [
    "Now let's take a look at the daily returns. \n",
    "\n",
    "Pick your favorite stock (Google - GOOG, Tesla - TSLA, Apple - AAPL etc.) and plot a graph of the daily return versus date for that stock for all of its historical data available in the dataset."
   ]
  },
  {
   "cell_type": "code",
   "execution_count": null,
   "metadata": {},
   "outputs": [],
   "source": [
    "# Add any necessary imports here\n",
    "\n",
    "\n",
    "# TODO\n",
    "# Write code that plots the graph of *daily* returns versus date for your stock choice\n"
   ]
  },
  {
   "cell_type": "markdown",
   "metadata": {},
   "source": [
    "In a few words, what can you tell about the daily returns based on the graph you plotted? "
   ]
  },
  {
   "cell_type": "code",
   "execution_count": null,
   "metadata": {},
   "outputs": [],
   "source": [
    "# TODO \n",
    "# Write down your observations about the graph above\n",
    "\n",
    "#\n",
    "#\n",
    "#"
   ]
  },
  {
   "cell_type": "markdown",
   "metadata": {},
   "source": [
    "Now implement a function that given a dataset that has the daily returns, it returns a copy of the dataset with a new column that contains the total returns per stock per date in the timeframe. The total return for a given date is equal to the percentage change between the price at the start of the period and price on that date."
   ]
  },
  {
   "cell_type": "code",
   "execution_count": null,
   "metadata": {},
   "outputs": [],
   "source": [
    "# Add any necessary imports here\n",
    "\n",
    "\n",
    "def add_total_returns(dataset: pd.DataFrame, start_year: int, end_year: int) -> pd.DataFrame:\n",
    "    pass  # delete this line before implementing the function\n",
    "    # TODO"
   ]
  },
  {
   "cell_type": "code",
   "execution_count": null,
   "metadata": {},
   "outputs": [],
   "source": [
    "spx_data_with_total_returns = add_total_returns(spx_data_with_daily_returns, 2012, 2021)"
   ]
  },
  {
   "cell_type": "markdown",
   "metadata": {},
   "source": [
    "Similarly, for the same stock you picked, plot a graph of the total return versus date for all of its historical data available in the dataset and comment with your observations."
   ]
  },
  {
   "cell_type": "code",
   "execution_count": null,
   "metadata": {},
   "outputs": [],
   "source": [
    "# Add any necessary imports here\n",
    "\n",
    "\n",
    "# TODO\n",
    "# Write code that plots the graph of *total* returns versus date for your stock choice\n"
   ]
  },
  {
   "cell_type": "code",
   "execution_count": null,
   "metadata": {},
   "outputs": [],
   "source": [
    "# TODO \n",
    "# Write down your observations about the graph above\n",
    "\n",
    "#\n",
    "#\n",
    "#"
   ]
  },
  {
   "cell_type": "markdown",
   "metadata": {},
   "source": [
    "Now that you are more familiar with our dataset and know how to add necessary stock returns to it, let's dive into the investment strategy.\n",
    "\n",
    "For this project you will implement two very similar strategies, where we will create an equally weighted portfolio by:\n",
    "\n",
    "1. **Picking the top 10 performing stocks over a time period**\n",
    "2. **Picking the bottom 10 performing stocks over a time period**\n",
    "\n",
    "To be able to test the performace of your investment strategy we will \"split\" the dataset in two periods. The first period will be between start of 2012 and end of 2015. Data from this time period will be used to pick top and bottom performing stocks. The rest of the dataset, between start of 2016 and end of 2021, will be used to test the performace of the picked stocks.\n",
    "\n",
    "You will start by implementing a function that given the dataset, a start year, and an end year, returns a list with top 10 performing stocks (try to make the function generic so that it works for any number of stocks and for either best or worst performing stocks)."
   ]
  },
  {
   "cell_type": "code",
   "execution_count": null,
   "metadata": {},
   "outputs": [],
   "source": [
    "from typing import List\n",
    "# Add any necessary imports here\n",
    "\n",
    "def top_performing_stocks(dataset: pd.DataFrame, start_year:int, end_year:int, number_stocks:int = 10) -> List[str]:\n",
    "    pass  # delete this line before implementing the function\n",
    "    # TODO"
   ]
  },
  {
   "cell_type": "code",
   "execution_count": null,
   "metadata": {},
   "outputs": [],
   "source": [
    "# Run code below to test your function\n",
    "\n",
    "# (JOLI - Might want to add more test cases here or in general)\n",
    "\n",
    "assert set(top_performing_stocks(spx_data, 2012, 2012)) == {'REGN', 'PHM', 'AAL', 'WHR', 'EXPE', 'EQIX', 'BAC', 'LEN', 'STX', 'MPC'}, \"Your function did not return the correct set of top 10 stock performers for year 2012 only\""
   ]
  },
  {
   "cell_type": "markdown",
   "metadata": {},
   "source": [
    "What are top 10 performing stocks for the period between 2012 and 2015?"
   ]
  },
  {
   "cell_type": "code",
   "execution_count": null,
   "metadata": {},
   "outputs": [],
   "source": [
    "# TODO - Get top stocks and print them here\n",
    "top_stocks = top_performing_stocks(...)\n"
   ]
  },
  {
   "cell_type": "markdown",
   "metadata": {},
   "source": [
    "Similarly make a function that returns a list with the worst performing stocks. If needed, feel free to modify the function `top_performing_stocks` to support this functionality. \n",
    "\n",
    "What are the worst 10 performing stocks for the period between 2012 and 2015?"
   ]
  },
  {
   "cell_type": "code",
   "execution_count": null,
   "metadata": {},
   "outputs": [],
   "source": [
    "# TODO - Answer here\n",
    "\n",
    "#\n",
    "#"
   ]
  },
  {
   "cell_type": "markdown",
   "metadata": {},
   "source": [
    "Now that you are able to get lists of best and worst performing stocks, it's time to test how each of these lists would perform in the \"future\". \n",
    "\n",
    "Implement the function below that given the dataset, a start year, an end year, and a list of stocks (tickers), it returns a pandas dataset that contains the dates and the total return per each date of the portfolio that consists of the given list of stocks. "
   ]
  },
  {
   "cell_type": "code",
   "execution_count": null,
   "metadata": {},
   "outputs": [],
   "source": [
    "# Add any necessary imports here\n",
    "\n",
    "\n",
    "def get_portfolio_returns(dataset: pd.DataFrame, start_year: int, end_year: int, tickers: List[str]) -> pd.DataFrame:\n",
    "    pass  # delete this line before implementing the function\n",
    "    # TODO"
   ]
  },
  {
   "cell_type": "markdown",
   "metadata": {},
   "source": [
    "Now use the function you just implemented to get the total returns between 2016 and 2021 for the porfolio with top 10 perfoming stocks of the period between 2012 and 2015. \n",
    "\n",
    "Plot the total returns of the portfolio versus date."
   ]
  },
  {
   "cell_type": "code",
   "execution_count": null,
   "metadata": {},
   "outputs": [],
   "source": [
    "# TODO\n",
    "# Write code that plots the graph of total returns versus date for the portfolio with *top* stocks"
   ]
  },
  {
   "cell_type": "markdown",
   "metadata": {},
   "source": [
    "Now repeat the step above, but for the porfolio with the worst perfoming stocks of the period between 2012 and 2015."
   ]
  },
  {
   "cell_type": "code",
   "execution_count": null,
   "metadata": {},
   "outputs": [],
   "source": [
    "# TODO\n",
    "# Write code that plots the graph of total returns versus date for the portfolio with *worst* stocks"
   ]
  },
  {
   "cell_type": "markdown",
   "metadata": {},
   "source": [
    "### Conclusions\n",
    "\n",
    "What can you tell about the investment strategy based on the results you got? Is buying the top performing stocks a successful strategy? Is it the best strategy? How does it compare to the strategy of buying the worst performing stocks? "
   ]
  },
  {
   "cell_type": "code",
   "execution_count": null,
   "metadata": {},
   "outputs": [],
   "source": [
    "# TODO - Answer here"
   ]
  },
  {
   "cell_type": "markdown",
   "metadata": {},
   "source": [
    "## What's your investment strategy? \n",
    " \n",
    "Come up with an investment strategy different from the ones above and implement it below. You would need to justify your porfolio choice and test it using data different from the one used to build the portfolio.\n",
    "Feel free to use the dataset that's available or the code in `spx_data.py` to load a different dataset. \n",
    "\n",
    "<br>**<a href=\"https://www.investopedia.com/investing/investing-strategies/\">Here</a> are some basic investment strategies to get you started!**"
   ]
  },
  {
   "cell_type": "code",
   "execution_count": null,
   "metadata": {},
   "outputs": [],
   "source": []
  }
 ],
 "metadata": {
  "kernelspec": {
   "display_name": "Python 3",
   "language": "python",
   "name": "python3"
  },
  "language_info": {
   "codemirror_mode": {
    "name": "ipython",
    "version": 3
   },
   "file_extension": ".py",
   "mimetype": "text/x-python",
   "name": "python",
   "nbconvert_exporter": "python",
   "pygments_lexer": "ipython3",
   "version": "3.7.6"
  }
 },
 "nbformat": 4,
 "nbformat_minor": 2
}
